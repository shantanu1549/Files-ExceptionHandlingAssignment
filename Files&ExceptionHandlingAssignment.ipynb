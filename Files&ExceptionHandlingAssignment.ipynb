{
  "nbformat": 4,
  "nbformat_minor": 0,
  "metadata": {
    "colab": {
      "provenance": []
    },
    "kernelspec": {
      "name": "python3",
      "display_name": "Python 3"
    },
    "language_info": {
      "name": "python"
    }
  },
  "cells": [
    {
      "cell_type": "code",
      "source": [
        "'''\n",
        "Q1. Discuss the scenarios where multithreading is preferable to multiprocessing and scenarios where multiprocessing is a better choice.\n",
        "\n",
        "A1. Mutithreading : Multithreading is often preferable for I/O-bound tasks where you want to improve performance by having threads wait for I/O operations while\n",
        "                    other threads continue processing. It is also suitable for tasks where sharing data between threads is advantageous.\n",
        "\n",
        "    Multiproceesing : Multiprocessing is better suited for CPU-bound tasks that require significant computational power and benefit from parallelism across multiple CPU cores.\n",
        "    It is also ideal when tasks need to be isolated from each other to avoid interference or when bypassing limitations like the GIL in Python.\n",
        "'''"
      ],
      "metadata": {
        "id": "omJtoqe7xo1g"
      },
      "execution_count": null,
      "outputs": []
    },
    {
      "cell_type": "code",
      "source": [
        "'''\n",
        "Q2. Describe what a process pool is and how it helps in managing multiple processes efficiently\n",
        "\n",
        "A2. A process pool is a collection of pre-allocated worker processes designed to handle multiple tasks concurrently.\n",
        "\n",
        "1.Pre-Creation of Processes: Instead of creating new processes for each task, a fixed number of processes are created and kept idle until needed.\n",
        "\n",
        "2.Efficient Task Distribution: Tasks are assigned to available processes in the pool, reducing the need for frequent process creation and destruction.\n",
        "\n",
        "3.Reduced Overhead: Reusing pre-existing processes minimizes the overhead associated with process management, improving overall performance.\n",
        "\n",
        "4.Resource Management: Limits the number of concurrent processes, preventing excessive system load and resource contention.\n",
        "\n",
        "5.Load Balancing: Distributes tasks among the worker processes, ensuring efficient use of system resources and balanced workload.\n",
        "\n",
        "6.Simplified Management: Provides an abstraction for handling tasks and results, making concurrent processing easier to implement and manage.\n",
        "'''"
      ],
      "metadata": {
        "id": "mbGzduwbxoyL"
      },
      "execution_count": null,
      "outputs": []
    },
    {
      "cell_type": "code",
      "source": [
        "'''\n",
        "Q3. Explain what multiprocessing is and why it is used in Python programs.\n",
        "\n",
        "A3. Multiprocessing is a technique that allows a Python program to run multiple processes concurrently, each with its own Python interpreter and memory space. This is useful for:\n",
        "\n",
        "Bypassing the Global Interpreter Lock (GIL): Enables true parallelism for CPU-bound tasks by avoiding the GIL's limitations.\n",
        "\n",
        "Improving Performance: Leverages multiple CPU cores to speed up computation and handle heavy tasks efficiently.\n",
        "\n",
        "Isolating Tasks: Ensures that processes run independently, preventing interference and enhancing stability.\n",
        "\n",
        "By using the multiprocessing module, Python programs can better utilize system resources and handle concurrent tasks effectively.\n",
        "'''"
      ],
      "metadata": {
        "id": "ZZWkrT-exovM"
      },
      "execution_count": null,
      "outputs": []
    },
    {
      "cell_type": "code",
      "source": [
        "#Q4. Write a Python program using multithreading where one thread adds numbers to a list, and another thread removes numbers from the list. Implement a mechanism to avoid race conditions using threading.Lock.\n",
        "\n",
        "import threading\n",
        "import time\n",
        "num_list = []\n",
        "lock = threading.Lock()\n",
        "\n",
        "def add_numbers():\n",
        "    for i in range(10):\n",
        "        time.sleep(1)\n",
        "        with lock:\n",
        "            num_list.append(i)\n",
        "            print(f\"Added: {i}\")\n",
        "\n",
        "def remove_numbers():\n",
        "    for i in range(10):\n",
        "        time.sleep(2)\n",
        "        with lock:\n",
        "            if num_list:\n",
        "                removed = num_list.pop(0)\n",
        "                print(f\"Removed: {removed}\")\n",
        "            else:\n",
        "                print(\"List is empty, nothing to remove.\")\n",
        "\n",
        "if __name__ == \"__main__\":\n",
        "    add_thread = threading.Thread(target=add_numbers)\n",
        "    remove_thread = threading.Thread(target=remove_numbers)\n",
        "    add_thread.start()\n",
        "    remove_thread.start()\n",
        "    add_thread.join()\n",
        "    remove_thread.join()\n",
        "\n",
        "    print(\"Final list:\", num_list)\n",
        "\n"
      ],
      "metadata": {
        "colab": {
          "base_uri": "https://localhost:8080/"
        },
        "id": "i3y6q2HWxorx",
        "outputId": "c1f7971b-1c0c-4807-b187-06839e0ce940"
      },
      "execution_count": 1,
      "outputs": [
        {
          "output_type": "stream",
          "name": "stdout",
          "text": [
            "Added: 0\n",
            "Removed: 0\n",
            "Added: 1\n",
            "Added: 2\n",
            "Removed: 1\n",
            "Added: 3\n",
            "Added: 4\n",
            "Removed: 2\n",
            "Added: 5\n",
            "Added: 6\n",
            "Removed: 3\n",
            "Added: 7\n",
            "Added: 8\n",
            "Removed: 4\n",
            "Added: 9\n",
            "Removed: 5\n",
            "Removed: 6\n",
            "Removed: 7\n",
            "Removed: 8\n",
            "Removed: 9\n",
            "Final list: []\n"
          ]
        }
      ]
    },
    {
      "cell_type": "code",
      "execution_count": null,
      "metadata": {
        "id": "JVBR7_8lWM5_"
      },
      "outputs": [],
      "source": [
        "'''\n",
        "Q5. Describe the methods and tools available in Python for safely sharing data between threads and processes.\n",
        "\n",
        "A5. The methods and tools available in Python for safely sharing data between threads and processes are:\n",
        "1. Lock: A lock is a synchronization primitive that allows only one thread at a time to access a shared resource.\n",
        "\n",
        "2. RLock: A reentrant lock is a lock that can be acquired multiple times by the same thread.\n",
        "\n",
        "3. Semaphore: A semaphore is a synchronization primitive that allows a limited number of threads to access a shared resource.\n",
        "\n",
        "4. BoundedSemaphore: A bounded semaphore is a semaphore that has a limit on the number of threads that can access a shared resource.\n",
        "\n",
        "5. Event: An event is a synchronization primitive that allows one or more threads to wait for an event to occur.\n",
        "\n",
        "6. Condition: A condition is a synchronization primitive that allows multiple threads to wait for a shared resource to become available.\n",
        "\n",
        "7. Barrier: A barrier is a synchronization primitive that allows multiple threads to wait for a specific number of threads to reach a common point.\n",
        "\n",
        "8. Queue: A queue is a synchronization primitive that allows multiple threads to access a shared resource in a specific order.\n",
        "\n",
        "9. PriorityQueue: A priority queue is a queue that allows threads to access a shared resource in a specific order based on a priority.\n",
        "\n",
        "10. Pipe: A pipe is a synchronization primitive that allows two threads to communicate with each other.\n",
        "\n",
        "11. Array: An array is a shared memory primitive that allows multiple threads to access a contiguous block of memory.\n",
        "\n",
        "12. Value: A value is a shared memory primitive that allows multiple threads to access a single variable.\n",
        "'''"
      ]
    },
    {
      "cell_type": "code",
      "source": [
        "'''\n",
        "Q6. Discuss why it’s crucial to handle exceptions in concurrent programs and the techniques available for doing so.\n",
        "\n",
        "A6. Handling exceptions in concurrent programs is crucial because they can lead to unexpected behavior and errors.\n",
        "\n",
        "Exceptions are raised when an error occurs during the execution of a program.\n",
        "\n",
        "It is important to handle exceptions in concurrent programs because they can prevent the program from crashing.\n",
        "\n",
        "If an exception is not handled, it will cause the program to terminate.\n",
        "\n",
        "This can lead to unexpected behavior and errors.\n",
        "\n",
        "The techniques for handling exceptions are given below:-\n",
        "\n",
        "1. Try-except: This is the most common way to handle exceptions.\n",
        "\n",
        "2. Try-finally: This is used to ensure that a block of code is always executed, even if an exception is raised.\n",
        "\n",
        "3. Try-except-else: This is used to execute a block of code if no exception is raised.\n",
        "\n",
        "4. Try-except-finally: This is used to ensure that a block of code is always executed, even if an exception is raised.\n"
      ],
      "metadata": {
        "id": "JbQr5elnW-Zw"
      },
      "execution_count": null,
      "outputs": []
    },
    {
      "cell_type": "code",
      "source": [
        "#Q7. Create a program that uses a thread pool to calculate the factorial of numbers from 1 to 10 concurrently. Use concurrent.futures.ThreadPoolExecutor to manage the threads.\n",
        "\n",
        "import concurrent.futures\n",
        "\n",
        "def factorial(n):\n",
        "    if n == 0:\n",
        "        return 1\n",
        "    else:\n",
        "        return n * factorial(n-1)\n",
        "\n",
        "with concurrent.futures.ThreadPoolExecutor() as executor:\n",
        "    results = executor.map(factorial, range(1, 11))\n",
        "    for i, result in enumerate(results):\n",
        "        print(f\"The factorial of {i+1} is {result}\")"
      ],
      "metadata": {
        "colab": {
          "base_uri": "https://localhost:8080/"
        },
        "id": "ij82z1wzXsio",
        "outputId": "624b8856-ec03-4709-c21d-96f9cee86dac"
      },
      "execution_count": null,
      "outputs": [
        {
          "output_type": "stream",
          "name": "stdout",
          "text": [
            "The factorial of 1 is 1\n",
            "The factorial of 2 is 2\n",
            "The factorial of 3 is 6\n",
            "The factorial of 4 is 24\n",
            "The factorial of 5 is 120\n",
            "The factorial of 6 is 720\n",
            "The factorial of 7 is 5040\n",
            "The factorial of 8 is 40320\n",
            "The factorial of 9 is 362880\n",
            "The factorial of 10 is 3628800\n"
          ]
        }
      ]
    },
    {
      "cell_type": "code",
      "source": [
        "#Q8. Create a Python program that uses multiprocessing.Pool to compute the square of numbers from 1 to 10 in parallel. Measure the time taken to perform this computation using a pool of different sizes (e.g., 2, 4, 8 processes).\n",
        "\n",
        "import multiprocessing\n",
        "import time\n",
        "\n",
        "def square(n):\n",
        "    return n**2\n",
        "\n",
        "if __name__ == '__main__':\n",
        "    start_time = time.time()\n",
        "    with multiprocessing.Pool(processes=2) as pool:\n",
        "        results = pool.map(square, range(1, 11))\n",
        "        end_time = time.time()\n",
        "    print(\"Results:\", results)\n",
        "    print(\"Time taken:\", end_time - start_time)\n"
      ],
      "metadata": {
        "colab": {
          "base_uri": "https://localhost:8080/"
        },
        "id": "zzKg5s53X5e6",
        "outputId": "7a94dffe-24c9-4881-e823-9f3010d32012"
      },
      "execution_count": null,
      "outputs": [
        {
          "output_type": "stream",
          "name": "stdout",
          "text": [
            "Results: [1, 4, 9, 16, 25, 36, 49, 64, 81, 100]\n",
            "Time taken: 0.04909873008728027\n"
          ]
        }
      ]
    },
    {
      "cell_type": "code",
      "source": [],
      "metadata": {
        "id": "T84iafhlYE99"
      },
      "execution_count": null,
      "outputs": []
    }
  ]
}